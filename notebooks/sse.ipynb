{
 "cells": [
  {
   "cell_type": "markdown",
   "metadata": {},
   "source": [
    "# SSE Example\n",
    "This is an example ScalaTion notebook that computes the sum of squared error (SSE) of a residual vector."
   ]
  },
  {
   "cell_type": "markdown",
   "metadata": {},
   "source": [
    "## Import Vector Class\n",
    "Before we begin, we need to import some packages."
   ]
  },
  {
   "cell_type": "code",
   "execution_count": 1,
   "metadata": {},
   "outputs": [
    {
     "name": "stdout",
     "output_type": "stream",
     "text": [
      "import scalation.linalgebra.VectorD\n"
     ]
    }
   ],
   "source": [
    "import scalation.linalgebra.VectorD"
   ]
  },
  {
   "cell_type": "markdown",
   "metadata": {},
   "source": [
    "## Compute Sum of Squared Error\n",
    "Suppose you have a vector <code>e</code> representing the residuals of a linear regression. Then, the sum of squared error (SSE) can be computed by taking the vector dot product of <code>e</code> with itself."
   ]
  },
  {
   "cell_type": "code",
   "execution_count": 2,
   "metadata": {},
   "outputs": [
    {
     "name": "stdout",
     "output_type": "stream",
     "text": [
      "e: scalation.linalgebra.VectorD = VectorD(1.00000,\t2.00000,\t3.00000)\n",
      "sse: Double = 14.0\n"
     ]
    }
   ],
   "source": [
    "val e   = VectorD(1, 2, 3)\n",
    "val sse = e dot e"
   ]
  },
  {
   "cell_type": "code",
   "execution_count": null,
   "metadata": {},
   "outputs": [],
   "source": []
  }
 ],
 "metadata": {
  "kernelspec": {
   "display_name": "ScalaTion",
   "language": "scala",
   "name": "scalation"
  },
  "language_info": {
   "file_extension": ".scala",
   "mimetype": "text/x-scala-source",
   "name": "scala"
  }
 },
 "nbformat": 4,
 "nbformat_minor": 2
}
