{
 "cells": [
  {
   "cell_type": "markdown",
   "metadata": {},
   "source": [
    "# Deriving Multiple Linear Regression"
   ]
  },
  {
   "cell_type": "markdown",
   "metadata": {},
   "source": [
    "In this notebook, we demonstrate how to derive the least squares solution for multiple linear regression. "
   ]
  },
  {
   "cell_type": "markdown",
   "metadata": {},
   "source": [
    "## Derivation\n",
    "Suppose you want to predict the vector $y$ using variables $x_1, x_2, \\dots, x_n$ stored as the columns of the design matrix $X$. This suggests the following model $ y = X\\beta + e $ where $\\beta$ denotes a vector of coefficients and $e$ denotes a vector of error terms not explained by the rest of the model (i.e., the residuals). Our goal is to determine the $\\beta$ values that minimize the sum of squared error. This approach is often called [*least squares*](https://en.wikipedia.org/wiki/Least_squares).\n",
    "* The error is simply $e = Xb$.\n",
    "* We want to find the $\\beta$ that minimizes $e \\cdot e = e'e = (y-X\\beta)'(y-X\\beta) = y'y - 2b'X'y + b'X'Xb$. \n",
    "* To mimimize, we take the derivative and set it equal to zero: $\\frac{\\partial(e \\cdot e)}{\\partial b} = -2X'y + 2X'Xb = 0$\n",
    "* Solving for $\\beta$ gives $X'Xb=X'y$ and finally $b=(X'X)^{-1}X'y$.\n",
    "\n",
    "Therefore, when trying to predict $y$ by $\\hat{y} = X\\hat{\\beta}$, our estimate for $\\beta$ should be $\\hat{\\beta} = (X'X)^{-1}X'y$."
   ]
  },
  {
   "cell_type": "markdown",
   "metadata": {},
   "source": [
    "## Application"
   ]
  },
  {
   "cell_type": "code",
   "execution_count": 1,
   "metadata": {},
   "outputs": [
    {
     "name": "stdout",
     "output_type": "stream",
     "text": [
      "import scalation.linalgebra._\n",
      "x: scalation.linalgebra.MatrixD =\n",
      "\n",
      "MatrixD(1.00000,\t1.10000,\n",
      "\t2.00000,\t2.20000,\n",
      "\t3.00000,\t3.30000,\n",
      "\t4.00000,\t4.40000,\n",
      "\t5.00000,\t5.50000,\n",
      "\t6.00000,\t6.50000,\n",
      "\t7.00000,\t7.50000,\n",
      "\t8.00000,\t8.80000)\n"
     ]
    }
   ],
   "source": [
    "import scalation.linalgebra._\n",
    "val x = new MatrixD((8, 2), 1, 1.1, 2, 2.2, 3, 3.3, 4, 4.4, 5, 5.5, 6, 6.5, 7, 7.5, 8, 8.8)"
   ]
  },
  {
   "cell_type": "code",
   "execution_count": 2,
   "metadata": {},
   "outputs": [
    {
     "name": "stdout",
     "output_type": "stream",
     "text": [
      "actual: scalation.linalgebra.VectorD = VectorD(2.00000,\t3.00000)\n"
     ]
    }
   ],
   "source": [
    "val actual = VectorD(2, 3)"
   ]
  },
  {
   "cell_type": "code",
   "execution_count": 3,
   "metadata": {},
   "outputs": [
    {
     "name": "stdout",
     "output_type": "stream",
     "text": [
      "rng: scalation.random.Normal = Normal(0.0,0.01,0)\n",
      "\n",
      "noise: scalation.linalgebra.VectorD = VectorD(0.144828,\t0.0702879,\t-0.0794336,\t0.0303078,\t-0.0282241,\t-0.0825125,\t0.00281941,\t0.0408034)\n",
      "y: scalation.linalgebra.VectorD = VectorD(5.44483,\t10.6703,\t15.8206,\t21.2303,\t26.4718,\t31.4175,\t36.5028,\t42.4408)\n"
     ]
    }
   ],
   "source": [
    "val rng   = scalation.random.Normal(0, 0.01)           // random number generator\n",
    "val noise = VectorD(for (i <- x.range1) yield rng.gen) // make some noise\n",
    "val y     = (x * actual) + noise                       // make noisy response vector"
   ]
  },
  {
   "cell_type": "code",
   "execution_count": 4,
   "metadata": {},
   "outputs": [
    {
     "name": "stdout",
     "output_type": "stream",
     "text": [
      "b: scalation.linalgebra.VectorD = VectorD(1.76645,\t3.21368)\n",
      "e: scalation.linalgebra.VectorD = VectorD(0.143330,\t0.0672912,\t-0.0839287,\t0.0243143,\t-0.0357159,\t-0.0701345,\t0.0350672,\t0.0288165)\n"
     ]
    }
   ],
   "source": [
    "val b = (x.t * x).inverse * x.t * y\n",
    "val e = y - x * b"
   ]
  },
  {
   "cell_type": "code",
   "execution_count": 5,
   "metadata": {},
   "outputs": [
    {
     "name": "stdout",
     "output_type": "stream",
     "text": [
      "sse: Double = 0.04096136275068341\n"
     ]
    }
   ],
   "source": [
    "val sse = e dot e"
   ]
  },
  {
   "cell_type": "code",
   "execution_count": null,
   "metadata": {},
   "outputs": [],
   "source": []
  }
 ],
 "metadata": {
  "kernelspec": {
   "display_name": "ScalaTion",
   "language": "scala",
   "name": "scalation"
  },
  "language_info": {
   "file_extension": ".scala",
   "mimetype": "text/x-scala-source",
   "name": "scala"
  }
 },
 "nbformat": 4,
 "nbformat_minor": 2
}
