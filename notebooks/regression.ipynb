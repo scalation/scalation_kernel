{
 "cells": [
  {
   "cell_type": "markdown",
   "metadata": {},
   "source": [
    "# Longley's Economic Regression Data"
   ]
  },
  {
   "cell_type": "markdown",
   "metadata": {},
   "source": [
    "To demonstrate multiple linear regression, we're going to use the [`longley`](https://stat.ethz.ch/R-manual/R-devel/library/datasets/html/longley.html) dataset from the R [`datasets`](https://stat.ethz.ch/R-manual/R-devel/library/datasets/html/00Index.html) package. It is a macroeconomic dataset which provides a well-known example for a highly collinear regression. For convenience, a copy of this dataset is provided at http://cobweb.cs.uga.edu/~mec/longley.csv. First, let's load in the data using a [`Relation`](http://cobweb.cs.uga.edu/~jam/scalation_1.3/scalation_mathstat/target/scala-2.12/api/scalation/relalgebra/Relation$.html) to see what's available:"
   ]
  },
  {
   "cell_type": "code",
   "execution_count": 2,
   "metadata": {},
   "outputs": [
    {
     "name": "stdout",
     "output_type": "stream",
     "text": [
      "import scalation.columnar_db._\n",
      "url: String = http://cobweb.cs.uga.edu/~mec/longley.csv\n",
      "0\n",
      "rel: scalation.columnar_db.Relation =\n",
      "Relation(longley, 0,\n",
      "WrappedArray(id, GNP.deflator, GNP, Unemployed, Armed.Forces, Population, Year, Employed),\n",
      "VectorS(1947,\t1948,\t1949,\t1950,\t1951,\t1952,\t1953,\t1954,\t1955,\t1956,\t1957,\t1958,\t1959,\t1960,\t1961,\t1962)\n",
      "VectorD(83.0000,\t88.5000,\t88.2000,\t89.5000,\t96.2000,\t98.1000,\t99.0000,\t100.000,\t101.200,\t104.600,\t108.400,\t110.800,\t112.600,\t114.200,\t115.700,\t116.900)\n",
      "VectorD(234.289,\t259.426,\t258.054,\t284.599,\t328.975,\t346.999,\t365.385,\t363.112,\t397.469,\t419.180,\t442.769,\t444.546,\t482.704,\t502.601,\t518.173,\t554.894)\n",
      "VectorD(235.600,\t232.500,\t368.200,\t335.100,\t209.900,\t193.200,\t187.000,\t357.800,\t290.400,\t282.200,\t293.600,\t468.100,\t381.300,\t393.100,\t480.600,\t400.700)\n",
      "VectorD(159.000,\t145.600,\t161.600,\t165.000,\t309.900,\t359.400,\t354.700,\t335.000,\t304.800...\n",
      "|--------------------------------------------------------------------------------------------------------------------------------------------------|\n",
      "| Relation name = longley, key-column = 0                                                                                                          |\n",
      "|--------------------------------------------------------------------------------------------------------------------------------------------------|\n",
      "|                 id      GNP.deflator               GNP        Unemployed      Armed.Forces        Population              Year          Employed |\n",
      "|--------------------------------------------------------------------------------------------------------------------------------------------------|\n",
      "|               1947           83.0000           234.289           235.600           159.000           107.608           1947.00           60.3230 |\n",
      "|               1948           88.5000           259.426           232.500           145.600           108.632           1948.00           61.1220 |\n",
      "|               1949           88.2000           258.054           368.200           161.600           109.773           1949.00           60.1710 |\n",
      "|               1950           89.5000           284.599           335.100           165.000           110.929           1950.00           61.1870 |\n",
      "|               1951           96.2000           328.975           209.900           309.900           112.075           1951.00           63.2210 |\n",
      "|               1952           98.1000           346.999           193.200           359.400           113.270           1952.00           63.6390 |\n",
      "|               1953           99.0000           365.385           187.000           354.700           115.094           1953.00           64.9890 |\n",
      "|               1954           100.000           363.112           357.800           335.000           116.219           1954.00           63.7610 |\n",
      "|               1955           101.200           397.469           290.400           304.800           117.388           1955.00           66.0190 |\n",
      "|               1956           104.600           419.180           282.200           285.700           118.734           1956.00           67.8570 |\n",
      "|               1957           108.400           442.769           293.600           279.800           120.445           1957.00           68.1690 |\n",
      "|               1958           110.800           444.546           468.100           263.700           121.950           1958.00           66.5130 |\n",
      "|               1959           112.600           482.704           381.300           255.200           123.366           1959.00           68.6550 |\n",
      "|               1960           114.200           502.601           393.100           251.400           125.368           1960.00           69.5640 |\n",
      "|               1961           115.700           518.173           480.600           257.200           127.852           1961.00           69.3310 |\n",
      "|               1962           116.900           554.894           400.700           282.700           130.081           1962.00           70.5510 |\n",
      "|--------------------------------------------------------------------------------------------------------------------------------------------------|\n"
     ]
    }
   ],
   "source": [
    "import scalation.columnar_db._\n",
    "val url = \"http://cobweb.cs.uga.edu/~mec/longley.csv\"\n",
    "val rel = Relation(url, \"longley\", \"SDDDDDDD\", 0, \",\")\n",
    "rel.show()"
   ]
  },
  {
   "cell_type": "markdown",
   "metadata": {},
   "source": [
    "Suppose we want to model `Employed` using the other variables in a multiple linear regression. We first need to create the design matrix `x` and response vector `y` from the `Relation`. Then we create and train a `Regression` model."
   ]
  },
  {
   "cell_type": "code",
   "execution_count": 3,
   "metadata": {},
   "outputs": [
    {
     "name": "stdout",
     "output_type": "stream",
     "text": [
      "import scalation.analytics.Regression\n",
      "x: scalation.linalgebra.MatriD =\n",
      "\n",
      "MatrixD(83.0000,\t234.289,\t235.600,\t159.000,\t107.608,\t1947.00,\n",
      "\t88.5000,\t259.426,\t232.500,\t145.600,\t108.632,\t1948.00,\n",
      "\t88.2000,\t258.054,\t368.200,\t161.600,\t109.773,\t1949.00,\n",
      "\t89.5000,\t284.599,\t335.100,\t165.000,\t110.929,\t1950.00,\n",
      "\t96.2000,\t328.975,\t209.900,\t309.900,\t112.075,\t1951.00,\n",
      "\t98.1000,\t346.999,\t193.200,\t359.400,\t113.270,\t1952.00,\n",
      "\t99.0000,\t365.385,\t187.000,\t354.700,\t115.094,\t1953.00,\n",
      "\t100.000,\t363.112,\t357.800,\t335.000,\t116.219,\t1954.00,\n",
      "\t101.200,\t397.469,\t290.400,\t304.800,\t117.388,\t1955.00,\n",
      "\t104.600,\t419.180,\t282.200,\t285.700,\t118.734,\t1956.00,\n",
      "\t108.400,\t442.769,\t293.600,\t279.800,\t120.445,\t1957.00,\n",
      "\t110.800,\t444.546,\t468.100,\t263.700,\t121.950,\t1958.00,\n",
      "\t112.600,\t482.704,\t381.300,\t255.200,\t123.366,\t1959.00,\n",
      "\t114.200,\t502.601,\t393.100,\t251.400,\t125....\n",
      "rg: scalation.analytics.Regression = scalation.analytics.Regression@c683cf5\n",
      "res2: scalation.analytics.Regression = scalation.analytics.Regression@c683cf5\n",
      "res3: String =\n",
      "\"fname = Array(x0, x1, x2, x3, x4, x5)\n",
      "SUMMARY\n",
      "    Coefficients:\n",
      "             Estimate    Std. Error \t t value \t Pr(>|t|)\n",
      "\n",
      "    x0\t -0.05299\t NaN\t NaN\t 0.00000\n",
      "    x1\t 0.07107\t NaN\t NaN\t 0.00000\n",
      "    x2\t -0.00423\t NaN\t NaN\t 0.00000\n",
      "    x3\t -0.00573\t NaN\t NaN\t 0.00000\n",
      "    x4\t -0.41420\t NaN\t NaN\t 0.00000\n",
      "    x5\t 0.04842\t NaN\t NaN\t 0.00000\n",
      "\n",
      "    Residual standard error: -1.00000 on 10.0 degrees of freedom\n",
      "    Multiple R-squared:  -1.00000,\tAdjusted R-squared:  -1.00000\n",
      "    F-statistic: -1.0 on 5.0 and 10.0 DF,  p-value: -1.0\n",
      "       \"\n"
     ]
    }
   ],
   "source": [
    "import scalation.analytics.Regression\n",
    "val (x, y) = rel.toMatriDD((1 to 6).toSeq, 7)\n",
    "val rg = new Regression(x, y)\n",
    "rg.train()\n",
    "rg.summary"
   ]
  },
  {
   "cell_type": "markdown",
   "metadata": {},
   "source": [
    "The resulting model is known to be highly collinear, as evidenced by the large p-values in the table."
   ]
  },
  {
   "cell_type": "markdown",
   "metadata": {},
   "source": [
    "## References\n",
    "\n",
    "* J. W. Longley (1967) An appraisal of least-squares programs from the point of view of the user. *Journal of the American Statistical Association* 62, 819–841.\n",
    "* Becker, R. A., Chambers, J. M. and Wilks, A. R. (1988) *The New S Language.* Wadsworth & Brooks/Cole."
   ]
  }
 ],
 "metadata": {
  "kernelspec": {
   "display_name": "ScalaTion",
   "language": "scala",
   "name": "scalation"
  },
  "language_info": {
   "file_extension": ".scala",
   "mimetype": "text/x-scala-source",
   "name": "scala"
  }
 },
 "nbformat": 4,
 "nbformat_minor": 2
}
