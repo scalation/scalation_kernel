{
 "cells": [
  {
   "cell_type": "markdown",
   "metadata": {},
   "source": [
    "<div style=\"padding: 10px; background-color: #ecf0f1;\">\n",
    "**<span style=\"color:red\">NOTE:</span>** This notebook requires [`BSpline2.scala`](http://cobweb.cs.uga.edu/~mec/BSpline2.scala) to be placed in the root of your JupyterHub workspace. If you're on `hub.aods.io`, the you can do this using the following AODS Upload link: http://upload.aods.io/http://cobweb.cs.uga.edu/~mec/BSpline2.scala.\n",
    "</div>"
   ]
  },
  {
   "cell_type": "markdown",
   "metadata": {},
   "source": [
    "<div style=\"padding: 10px; background-color: #ecf0f1;\">\n",
    "**<span style=\"color:red\">NOTE:</span>** Commands that begin with a single colon (e.g., <code>:silent</code>) are [Scala REPL commands](https://docs.scala-lang.org/overviews/repl/overview.html). Commands that begin with a double colon (e.g., <code>::relation</code>) are [ScalaTion Kernel commands](https://github.com/scalation/scalation_kernel/blob/master/USER.md). Anything else in a code cell is assumed to be Scala code. \n",
    "</div>"
   ]
  },
  {
   "cell_type": "markdown",
   "metadata": {},
   "source": [
    "# Regression Splines\n",
    "Suppose you want to approximate the function $x(t)$ for some process that you have sampled over the input domain (usually time). If the process isn't linear, then directly using multiple linear regression may not be a good idea. Instead, you can better model the curvature of the process using a regression spline.\n",
    "\n",
    "With a regression spline, the function is modeled as a linear combination of basis functions:\n",
    "\n",
    "$$ f(t) = \\sum_i c_i \\phi_i(t) . $$\n",
    "\n",
    "While many different types of basis functions exist (e.g., polynomial, Fourier, etc.), it is common to use cubic [B-spline](https://en.wikipedia.org/wiki/B-spline#Definition) basis functions due to their appealing geometric properties, as discussed in [Patrikalakis & Maekawa (2009)](http://web.mit.edu/hyperbook/Patrikalakis-Maekawa-Cho/node17.html). The remainder of this notebook demonstrates how to reformulate a regression spline model as a multiple linear regression in order to approximate a function for the number (in thousands) of Australian residents measured quarterly from March 1971 to March 1994. To do this, we are going use the [Quarterly Time Series of the Number of Australian Residents](https://stat.ethz.ch/R-manual/R-devel/library/datasets/html/austres.html) dataset from the R [`datasets`](https://stat.ethz.ch/R-manual/R-devel/library/datasets/html/00Index.html) package. For convenience, a copy of this dataset is provided at http://cobweb.cs.uga.edu/~mec/austres.csv."
   ]
  },
  {
   "cell_type": "markdown",
   "metadata": {},
   "source": [
    "First, let's import some packages from ScalaTion:"
   ]
  },
  {
   "cell_type": "code",
   "execution_count": 5,
   "metadata": {
    "scrolled": false
   },
   "outputs": [
    {
     "name": "stdout",
     "output_type": "stream",
     "text": [
      "Result printing is on.\n",
      "import scalation.analytics._\n",
      "import scalation.linalgebra._\n",
      "import scalation.columnar_db._\n",
      "Pasting file BSpline2.scala...\n"
     ]
    }
   ],
   "source": [
    ":silent                        // suppress extra output\n",
    "import scalation.analytics._   // for regression\n",
    "import scalation.linalgebra._  // for linear algebra support\n",
    "import scalation.columnar_db._ // for relational algebra support\n",
    ":paste -raw BSpline2.scala"
   ]
  },
  {
   "cell_type": "markdown",
   "metadata": {},
   "source": [
    "Next, let's load in the dataset using a [`Relation`](http://cobweb.cs.uga.edu/~jam/scalation_1.3/scalation_mathstat/target/scala-2.12/api/scalation/relalgebra/Relation$.html) to see what's available:"
   ]
  },
  {
   "cell_type": "code",
   "execution_count": 6,
   "metadata": {
    "scrolled": true
   },
   "outputs": [
    {
     "name": "stdout",
     "output_type": "stream",
     "text": [
      "url: String = http://cobweb.cs.uga.edu/~mec/austres.csv\n",
      "0\n",
      "rel: scalation.columnar_db.Relation =\n",
      "Relation(austres, 0,\n",
      "WrappedArray(id, time, austres),\n",
      "VectorS(1,\t2,\t3,\t4,\t5,\t6,\t7,\t8,\t9,\t10,\t11,\t12,\t13,\t14,\t15,\t16,\t17,\t18,\t19,\t20,\t21,\t22,\t23,\t24,\t25,\t26,\t27,\t28,\t29,\t30,\t31,\t32,\t33,\t34,\t35,\t36,\t37,\t38,\t39,\t40,\t41,\t42,\t43,\t44,\t45,\t46,\t47,\t48,\t49,\t50,\t51,\t52,\t53,\t54,\t55,\t56,\t57,\t58,\t59,\t60,\t61,\t62,\t63,\t64,\t65,\t66,\t67,\t68,\t69,\t70,\t71,\t72,\t73,\t74,\t75,\t76,\t77,\t78,\t79,\t80,\t81,\t82,\t83,\t84,\t85,\t86,\t87,\t88,\t89)\n",
      "VectorD(1971.25,\t1971.50,\t1971.75,\t1972.00,\t1972.25,\t1972.50,\t1972.75,\t1973.00,\t1973.25,\t1973.50,\t1973.75,\t1974.00,\t1974.25,\t1974.50,\t1974.75,\t1975.00,\t1975.25,\t1975.50,\t1975.75,\t1976.00,\t1976.25,\t1976.50,\t1976.75,\t1977.00,\t1977.25,\t1977.50,\t1977.75,\t1978.00,\t1978.25,\t1978.50,\t1978.75,\t1979.00,\t1979.25,\t1979.50,\t1979.75,\t1980.00,\t1980.25,\t1980.50,\t...\n"
     ]
    },
    {
     "data": {
      "text/html": [
       "\n",
       "<p><strong>Relation: austres</strong></p>\n",
       "<table>\n",
       "<tr>\n",
       "    <th><code>id</code></th>\n",
       "    <th><code>time</code></th>\n",
       "    <th><code>austres</code></th>\n",
       "</tr>\n",
       "<tr>\n",
       "    <td><code>1</code></td>\n",
       "    <td><code>1971.25</code></td>\n",
       "    <td><code>13067.3</code></td>\n",
       "</tr>\n",
       "<tr>\n",
       "    <td><code>2</code></td>\n",
       "    <td><code>1971.5</code></td>\n",
       "    <td><code>13130.5</code></td>\n",
       "</tr>\n",
       "<tr>\n",
       "    <td><code>3</code></td>\n",
       "    <td><code>1971.75</code></td>\n",
       "    <td><code>13198.4</code></td>\n",
       "</tr>\n",
       "<tr>\n",
       "    <td><code>4</code></td>\n",
       "    <td><code>1972.0</code></td>\n",
       "    <td><code>13254.2</code></td>\n",
       "</tr>\n",
       "<tr>\n",
       "    <td><code>5</code></td>\n",
       "    <td><code>1972.25</code></td>\n",
       "    <td><code>13303.7</code></td>\n",
       "</tr>\n",
       "<tr>\n",
       "    <td><code>6</code></td>\n",
       "    <td><code>1972.5</code></td>\n",
       "    <td><code>13353.9</code></td>\n",
       "</tr>\n",
       "<tr>\n",
       "    <td><code>7</code></td>\n",
       "    <td><code>1972.75</code></td>\n",
       "    <td><code>13409.3</code></td>\n",
       "</tr>\n",
       "<tr>\n",
       "    <td><code>8</code></td>\n",
       "    <td><code>1973.0</code></td>\n",
       "    <td><code>13459.2</code></td>\n",
       "</tr>\n",
       "<tr>\n",
       "    <td><code>9</code></td>\n",
       "    <td><code>1973.25</code></td>\n",
       "    <td><code>13504.5</code></td>\n",
       "</tr>\n",
       "<tr>\n",
       "    <td><code>10</code></td>\n",
       "    <td><code>1973.5</code></td>\n",
       "    <td><code>13552.6</code></td>\n",
       "</tr>\n",
       "<tr>\n",
       "    <td><code>11</code></td>\n",
       "    <td><code>1973.75</code></td>\n",
       "    <td><code>13614.3</code></td>\n",
       "</tr>\n",
       "<tr>\n",
       "    <td><code>12</code></td>\n",
       "    <td><code>1974.0</code></td>\n",
       "    <td><code>13669.5</code></td>\n",
       "</tr>\n",
       "<tr>\n",
       "    <td><code>13</code></td>\n",
       "    <td><code>1974.25</code></td>\n",
       "    <td><code>13722.6</code></td>\n",
       "</tr>\n",
       "<tr>\n",
       "    <td><code>14</code></td>\n",
       "    <td><code>1974.5</code></td>\n",
       "    <td><code>13772.1</code></td>\n",
       "</tr>\n",
       "<tr>\n",
       "    <td><code>15</code></td>\n",
       "    <td><code>1974.75</code></td>\n",
       "    <td><code>13832.0</code></td>\n",
       "</tr>\n",
       "<tr>\n",
       "    <td><code>16</code></td>\n",
       "    <td><code>1975.0</code></td>\n",
       "    <td><code>13862.6</code></td>\n",
       "</tr>\n",
       "<tr>\n",
       "    <td><code>17</code></td>\n",
       "    <td><code>1975.25</code></td>\n",
       "    <td><code>13893.0</code></td>\n",
       "</tr>\n",
       "<tr>\n",
       "    <td><code>18</code></td>\n",
       "    <td><code>1975.5</code></td>\n",
       "    <td><code>13926.8</code></td>\n",
       "</tr>\n",
       "<tr>\n",
       "    <td><code>19</code></td>\n",
       "    <td><code>1975.75</code></td>\n",
       "    <td><code>13968.9</code></td>\n",
       "</tr>\n",
       "<tr>\n",
       "    <td><code>20</code></td>\n",
       "    <td><code>1976.0</code></td>\n",
       "    <td><code>14004.7</code></td>\n",
       "</tr>\n",
       "<tr>\n",
       "    <td><code>21</code></td>\n",
       "    <td><code>1976.25</code></td>\n",
       "    <td><code>14033.1</code></td>\n",
       "</tr>\n",
       "<tr>\n",
       "    <td><code>22</code></td>\n",
       "    <td><code>1976.5</code></td>\n",
       "    <td><code>14066.0</code></td>\n",
       "</tr>\n",
       "<tr>\n",
       "    <td><code>23</code></td>\n",
       "    <td><code>1976.75</code></td>\n",
       "    <td><code>14110.1</code></td>\n",
       "</tr>\n",
       "<tr>\n",
       "    <td><code>24</code></td>\n",
       "    <td><code>1977.0</code></td>\n",
       "    <td><code>14155.6</code></td>\n",
       "</tr>\n",
       "<tr>\n",
       "    <td><code>25</code></td>\n",
       "    <td><code>1977.25</code></td>\n",
       "    <td><code>14192.2</code></td>\n",
       "</tr>\n",
       "<tr>\n",
       "    <td><code>26</code></td>\n",
       "    <td><code>1977.5</code></td>\n",
       "    <td><code>14231.7</code></td>\n",
       "</tr>\n",
       "<tr>\n",
       "    <td><code>27</code></td>\n",
       "    <td><code>1977.75</code></td>\n",
       "    <td><code>14281.5</code></td>\n",
       "</tr>\n",
       "<tr>\n",
       "    <td><code>28</code></td>\n",
       "    <td><code>1978.0</code></td>\n",
       "    <td><code>14330.3</code></td>\n",
       "</tr>\n",
       "<tr>\n",
       "    <td><code>29</code></td>\n",
       "    <td><code>1978.25</code></td>\n",
       "    <td><code>14359.3</code></td>\n",
       "</tr>\n",
       "<tr>\n",
       "    <td><code>30</code></td>\n",
       "    <td><code>1978.5</code></td>\n",
       "    <td><code>14396.6</code></td>\n",
       "</tr>\n",
       "<tr>\n",
       "    <td><code>31</code></td>\n",
       "    <td><code>1978.75</code></td>\n",
       "    <td><code>14430.8</code></td>\n",
       "</tr>\n",
       "<tr>\n",
       "    <td><code>32</code></td>\n",
       "    <td><code>1979.0</code></td>\n",
       "    <td><code>14478.4</code></td>\n",
       "</tr>\n",
       "<tr>\n",
       "    <td><code>33</code></td>\n",
       "    <td><code>1979.25</code></td>\n",
       "    <td><code>14515.7</code></td>\n",
       "</tr>\n",
       "<tr>\n",
       "    <td><code>34</code></td>\n",
       "    <td><code>1979.5</code></td>\n",
       "    <td><code>14554.9</code></td>\n",
       "</tr>\n",
       "<tr>\n",
       "    <td><code>35</code></td>\n",
       "    <td><code>1979.75</code></td>\n",
       "    <td><code>14602.5</code></td>\n",
       "</tr>\n",
       "<tr>\n",
       "    <td><code>36</code></td>\n",
       "    <td><code>1980.0</code></td>\n",
       "    <td><code>14646.4</code></td>\n",
       "</tr>\n",
       "<tr>\n",
       "    <td><code>37</code></td>\n",
       "    <td><code>1980.25</code></td>\n",
       "    <td><code>14695.4</code></td>\n",
       "</tr>\n",
       "<tr>\n",
       "    <td><code>38</code></td>\n",
       "    <td><code>1980.5</code></td>\n",
       "    <td><code>14746.6</code></td>\n",
       "</tr>\n",
       "<tr>\n",
       "    <td><code>39</code></td>\n",
       "    <td><code>1980.75</code></td>\n",
       "    <td><code>14807.4</code></td>\n",
       "</tr>\n",
       "<tr>\n",
       "    <td><code>40</code></td>\n",
       "    <td><code>1981.0</code></td>\n",
       "    <td><code>14874.4</code></td>\n",
       "</tr>\n",
       "<tr>\n",
       "    <td><code>41</code></td>\n",
       "    <td><code>1981.25</code></td>\n",
       "    <td><code>14923.3</code></td>\n",
       "</tr>\n",
       "<tr>\n",
       "    <td><code>42</code></td>\n",
       "    <td><code>1981.5</code></td>\n",
       "    <td><code>14988.7</code></td>\n",
       "</tr>\n",
       "<tr>\n",
       "    <td><code>43</code></td>\n",
       "    <td><code>1981.75</code></td>\n",
       "    <td><code>15054.1</code></td>\n",
       "</tr>\n",
       "<tr>\n",
       "    <td><code>44</code></td>\n",
       "    <td><code>1982.0</code></td>\n",
       "    <td><code>15121.7</code></td>\n",
       "</tr>\n",
       "<tr>\n",
       "    <td><code>45</code></td>\n",
       "    <td><code>1982.25</code></td>\n",
       "    <td><code>15184.2</code></td>\n",
       "</tr>\n",
       "<tr>\n",
       "    <td><code>46</code></td>\n",
       "    <td><code>1982.5</code></td>\n",
       "    <td><code>15239.3</code></td>\n",
       "</tr>\n",
       "<tr>\n",
       "    <td><code>47</code></td>\n",
       "    <td><code>1982.75</code></td>\n",
       "    <td><code>15288.9</code></td>\n",
       "</tr>\n",
       "<tr>\n",
       "    <td><code>48</code></td>\n",
       "    <td><code>1983.0</code></td>\n",
       "    <td><code>15346.2</code></td>\n",
       "</tr>\n",
       "<tr>\n",
       "    <td><code>49</code></td>\n",
       "    <td><code>1983.25</code></td>\n",
       "    <td><code>15393.5</code></td>\n",
       "</tr>\n",
       "<tr>\n",
       "    <td><code>50</code></td>\n",
       "    <td><code>1983.5</code></td>\n",
       "    <td><code>15439.0</code></td>\n",
       "</tr>\n",
       "<tr>\n",
       "    <td><code>51</code></td>\n",
       "    <td><code>1983.75</code></td>\n",
       "    <td><code>15483.5</code></td>\n",
       "</tr>\n",
       "<tr>\n",
       "    <td><code>52</code></td>\n",
       "    <td><code>1984.0</code></td>\n",
       "    <td><code>15531.5</code></td>\n",
       "</tr>\n",
       "<tr>\n",
       "    <td><code>53</code></td>\n",
       "    <td><code>1984.25</code></td>\n",
       "    <td><code>15579.4</code></td>\n",
       "</tr>\n",
       "<tr>\n",
       "    <td><code>54</code></td>\n",
       "    <td><code>1984.5</code></td>\n",
       "    <td><code>15628.5</code></td>\n",
       "</tr>\n",
       "<tr>\n",
       "    <td><code>55</code></td>\n",
       "    <td><code>1984.75</code></td>\n",
       "    <td><code>15677.3</code></td>\n",
       "</tr>\n",
       "<tr>\n",
       "    <td><code>56</code></td>\n",
       "    <td><code>1985.0</code></td>\n",
       "    <td><code>15736.7</code></td>\n",
       "</tr>\n",
       "<tr>\n",
       "    <td><code>57</code></td>\n",
       "    <td><code>1985.25</code></td>\n",
       "    <td><code>15788.3</code></td>\n",
       "</tr>\n",
       "<tr>\n",
       "    <td><code>58</code></td>\n",
       "    <td><code>1985.5</code></td>\n",
       "    <td><code>15839.7</code></td>\n",
       "</tr>\n",
       "<tr>\n",
       "    <td><code>59</code></td>\n",
       "    <td><code>1985.75</code></td>\n",
       "    <td><code>15900.6</code></td>\n",
       "</tr>\n",
       "<tr>\n",
       "    <td><code>60</code></td>\n",
       "    <td><code>1986.0</code></td>\n",
       "    <td><code>15961.5</code></td>\n",
       "</tr>\n",
       "<tr>\n",
       "    <td><code>61</code></td>\n",
       "    <td><code>1986.25</code></td>\n",
       "    <td><code>16018.3</code></td>\n",
       "</tr>\n",
       "<tr>\n",
       "    <td><code>62</code></td>\n",
       "    <td><code>1986.5</code></td>\n",
       "    <td><code>16076.9</code></td>\n",
       "</tr>\n",
       "<tr>\n",
       "    <td><code>63</code></td>\n",
       "    <td><code>1986.75</code></td>\n",
       "    <td><code>16139.0</code></td>\n",
       "</tr>\n",
       "<tr>\n",
       "    <td><code>64</code></td>\n",
       "    <td><code>1987.0</code></td>\n",
       "    <td><code>16203.0</code></td>\n",
       "</tr>\n",
       "<tr>\n",
       "    <td><code>65</code></td>\n",
       "    <td><code>1987.25</code></td>\n",
       "    <td><code>16263.3</code></td>\n",
       "</tr>\n",
       "<tr>\n",
       "    <td><code>66</code></td>\n",
       "    <td><code>1987.5</code></td>\n",
       "    <td><code>16327.9</code></td>\n",
       "</tr>\n",
       "<tr>\n",
       "    <td><code>67</code></td>\n",
       "    <td><code>1987.75</code></td>\n",
       "    <td><code>16398.9</code></td>\n",
       "</tr>\n",
       "<tr>\n",
       "    <td><code>68</code></td>\n",
       "    <td><code>1988.0</code></td>\n",
       "    <td><code>16478.3</code></td>\n",
       "</tr>\n",
       "<tr>\n",
       "    <td><code>69</code></td>\n",
       "    <td><code>1988.25</code></td>\n",
       "    <td><code>16538.2</code></td>\n",
       "</tr>\n",
       "<tr>\n",
       "    <td><code>70</code></td>\n",
       "    <td><code>1988.5</code></td>\n",
       "    <td><code>16621.6</code></td>\n",
       "</tr>\n",
       "<tr>\n",
       "    <td><code>71</code></td>\n",
       "    <td><code>1988.75</code></td>\n",
       "    <td><code>16697.0</code></td>\n",
       "</tr>\n",
       "<tr>\n",
       "    <td><code>72</code></td>\n",
       "    <td><code>1989.0</code></td>\n",
       "    <td><code>16777.2</code></td>\n",
       "</tr>\n",
       "<tr>\n",
       "    <td><code>73</code></td>\n",
       "    <td><code>1989.25</code></td>\n",
       "    <td><code>16833.1</code></td>\n",
       "</tr>\n",
       "<tr>\n",
       "    <td><code>74</code></td>\n",
       "    <td><code>1989.5</code></td>\n",
       "    <td><code>16891.6</code></td>\n",
       "</tr>\n",
       "<tr>\n",
       "    <td><code>75</code></td>\n",
       "    <td><code>1989.75</code></td>\n",
       "    <td><code>16956.8</code></td>\n",
       "</tr>\n",
       "<tr>\n",
       "    <td><code>76</code></td>\n",
       "    <td><code>1990.0</code></td>\n",
       "    <td><code>17026.3</code></td>\n",
       "</tr>\n",
       "<tr>\n",
       "    <td><code>77</code></td>\n",
       "    <td><code>1990.25</code></td>\n",
       "    <td><code>17085.4</code></td>\n",
       "</tr>\n",
       "<tr>\n",
       "    <td><code>78</code></td>\n",
       "    <td><code>1990.5</code></td>\n",
       "    <td><code>17106.9</code></td>\n",
       "</tr>\n",
       "<tr>\n",
       "    <td><code>79</code></td>\n",
       "    <td><code>1990.75</code></td>\n",
       "    <td><code>17169.4</code></td>\n",
       "</tr>\n",
       "<tr>\n",
       "    <td><code>80</code></td>\n",
       "    <td><code>1991.0</code></td>\n",
       "    <td><code>17239.4</code></td>\n",
       "</tr>\n",
       "<tr>\n",
       "    <td><code>81</code></td>\n",
       "    <td><code>1991.25</code></td>\n",
       "    <td><code>17292.0</code></td>\n",
       "</tr>\n",
       "<tr>\n",
       "    <td><code>82</code></td>\n",
       "    <td><code>1991.5</code></td>\n",
       "    <td><code>17354.2</code></td>\n",
       "</tr>\n",
       "<tr>\n",
       "    <td><code>83</code></td>\n",
       "    <td><code>1991.75</code></td>\n",
       "    <td><code>17414.2</code></td>\n",
       "</tr>\n",
       "<tr>\n",
       "    <td><code>84</code></td>\n",
       "    <td><code>1992.0</code></td>\n",
       "    <td><code>17447.3</code></td>\n",
       "</tr>\n",
       "<tr>\n",
       "    <td><code>85</code></td>\n",
       "    <td><code>1992.25</code></td>\n",
       "    <td><code>17482.6</code></td>\n",
       "</tr>\n",
       "<tr>\n",
       "    <td><code>86</code></td>\n",
       "    <td><code>1992.5</code></td>\n",
       "    <td><code>17526.0</code></td>\n",
       "</tr>\n",
       "<tr>\n",
       "    <td><code>87</code></td>\n",
       "    <td><code>1992.75</code></td>\n",
       "    <td><code>17568.7</code></td>\n",
       "</tr>\n",
       "<tr>\n",
       "    <td><code>88</code></td>\n",
       "    <td><code>1993.0</code></td>\n",
       "    <td><code>17627.1</code></td>\n",
       "</tr>\n",
       "<tr>\n",
       "    <td><code>89</code></td>\n",
       "    <td><code>1993.25</code></td>\n",
       "    <td><code>17661.5</code></td>\n",
       "</tr>\n",
       "</table>\n"
      ]
     },
     "metadata": {},
     "output_type": "display_data"
    }
   ],
   "source": [
    "val url = \"http://cobweb.cs.uga.edu/~mec/austres.csv\" // dataset url\n",
    "val rel = Relation(url, \"austres\", \"SDD\", 0, \",\")     // create relation\n",
    "::relation rel"
   ]
  },
  {
   "cell_type": "markdown",
   "metadata": {},
   "source": [
    "It looks like we want to use the second column (index 1) to represent points in the input domain and the last column (index 2) to represent our response. Let's extract them as vectors:"
   ]
  },
  {
   "cell_type": "code",
   "execution_count": null,
   "metadata": {
    "scrolled": false
   },
   "outputs": [
    {
     "name": "stdout",
     "output_type": "stream",
     "text": [
      "t: scalation.linalgebra.VectorD = VectorD(1971.25,\t1971.50,\t1971.75,\t1972.00,\t1972.25,\t1972.50,\t1972.75,\t1973.00,\t1973.25,\t1973.50,\t1973.75,\t1974.00,\t1974.25,\t1974.50,\t1974.75,\t1975.00,\t1975.25,\t1975.50,\t1975.75,\t1976.00,\t1976.25,\t1976.50,\t1976.75,\t1977.00,\t1977.25,\t1977.50,\t1977.75,\t1978.00,\t1978.25,\t1978.50,\t1978.75,\t1979.00,\t1979.25,\t1979.50,\t1979.75,\t1980.00,\t1980.25,\t1980.50,\t1980.75,\t1981.00,\t1981.25,\t1981.50,\t1981.75,\t1982.00,\t1982.25,\t1982.50,\t1982.75,\t1983.00,\t1983.25,\t1983.50,\t1983.75,\t1984.00,\t1984.25,\t1984.50,\t1984.75,\t1985.00,\t1985.25,\t1985.50,\t1985.75,\t1986.00,\t1986.25,\t1986.50,\t1986.75,\t1987.00,\t1987.25,\t1987.50,\t1987.75,\t1988.00,\t1988.25,\t1988.50,\t1988.75,\t1989.00,\t1989.25,\t1989.50,\t1989.75,\t1990.00,\t1990.25,\t1990.50,\t1990.75,\t1991.00,\t1991.25,\t1991.50,\t1991.75,\t1992.00,...\n",
      "y: scalation.linalgebra.VectorD = VectorD(13067.3,\t13130.5,\t13198.4,\t13254.2,\t13303.7,\t13353.9,\t13409.3,\t13459.2,\t13504.5,\t13552.6,\t13614.3,\t13669.5,\t13722.6,\t13772.1,\t13832.0,\t13862.6,\t13893.0,\t13926.8,\t13968.9,\t14004.7,\t14033.1,\t14066.0,\t14110.1,\t14155.6,\t14192.2,\t14231.7,\t14281.5,\t14330.3,\t14359.3,\t14396.6,\t14430.8,\t14478.4,\t14515.7,\t14554.9,\t14602.5,\t14646.4,\t14695.4,\t14746.6,\t14807.4,\t14874.4,\t14923.3,\t14988.7,\t15054.1,\t15121.7,\t15184.2,\t15239.3,\t15288.9,\t15346.2,\t15393.5,\t15439.0,\t15483.5,\t15531.5,\t15579.4,\t15628.5,\t15677.3,\t15736.7,\t15788.3,\t15839.7,\t15900.6,\t15961.5,\t16018.3,\t16076.9,\t16139.0,\t16203.0,\t16263.3,\t16327.9,\t16398.9,\t16478.3,\t16538.2,\t16621.6,\t16697.0,\t16777.2,\t16833.1,\t16891.6,\t16956.8,\t17026.3,\t17085.4,\t17106.9,\t17169.4,\t17239.4,\t17292.0,\t17354.2,\t17414.2,\t17447.3,...\n"
     ]
    }
   ],
   "source": [
    "val t = rel.toVectorD(1) // input / time point vector\n",
    "val y = rel.toVectorD(2) // response vector\n",
    "::plotv y"
   ]
  },
  {
   "cell_type": "markdown",
   "metadata": {},
   "source": [
    "## Generating B-spline Basis Functions\n",
    "Now, let's prepare for the creation of our B-spline basis functions. The degree of a B-spline basis function is one less than its order. Therefore, we'll use $k=4$ to denote the order for a cubic B-spline. Furthermore, B-spline basis functions are parameterized according to a vector of non-decreasing \"knots\" across the input domain. The regression spline will only be defined on the closed interval defined by the first and last elements of the knot vector. As described in [Patrikalakis, N. M., & Maekawa, T. (2009)](http://web.mit.edu/hyperbook/Patrikalakis-Maekawa-Cho/node17.html), it is often desirable to \"clamp\" the knot vector by repeating the first and last time points $k$ times to ensure that the resulting regression spline passes through the first and last points in the response. **<span style=\"color:blue\">NOTE:</span>** We encourage the user to try the remaining steps in this notebook with different sets of internal knots (keeping the endpoints the same)."
   ]
  },
  {
   "cell_type": "code",
   "execution_count": 8,
   "metadata": {
    "scrolled": false
   },
   "outputs": [
    {
     "name": "stdout",
     "output_type": "stream",
     "text": [
      "k: Int = 4\n",
      "knots: scalation.linalgebra.VectorD = VectorD(1971.25,\t1971.25,\t1971.25,\t1971.25,\t1971.50,\t1971.75,\t1972.00,\t1972.25,\t1972.50,\t1972.75,\t1973.00,\t1973.25,\t1973.50,\t1973.75,\t1974.00,\t1974.25,\t1974.50,\t1974.75,\t1975.00,\t1975.25,\t1975.50,\t1975.75,\t1976.00,\t1976.25,\t1976.50,\t1976.75,\t1977.00,\t1977.25,\t1977.50,\t1977.75,\t1978.00,\t1978.25,\t1978.50,\t1978.75,\t1979.00,\t1979.25,\t1979.50,\t1979.75,\t1980.00,\t1980.25,\t1980.50,\t1980.75,\t1981.00,\t1981.25,\t1981.50,\t1981.75,\t1982.00,\t1982.25,\t1982.50,\t1982.75,\t1983.00,\t1983.25,\t1983.50,\t1983.75,\t1984.00,\t1984.25,\t1984.50,\t1984.75,\t1985.00,\t1985.25,\t1985.50,\t1985.75,\t1986.00,\t1986.25,\t1986.50,\t1986.75,\t1987.00,\t1987.25,\t1987.50,\t1987.75,\t1988.00,\t1988.25,\t1988.50,\t1988.75,\t1989.00,\t1989.25,\t1989.50,\t1989.75,\t1990.00,\t1990.25,\t1990.50,\t1990.75,\t1991.00,\t1991...\n",
      "bs: BSpline2 = BSpline2@4c40aed1\n"
     ]
    }
   ],
   "source": [
    "val k     = 4                        // order 4; degree 3\n",
    "val knots = BSpline2Util.clamp(k, t) // clamped knot vector\n",
    "val bs    = new BSpline2(knots, k)   // cubic b-spline basis generator"
   ]
  },
  {
   "cell_type": "markdown",
   "metadata": {},
   "source": [
    "Now we are ready to define $\\phi_i(t)$:"
   ]
  },
  {
   "cell_type": "code",
   "execution_count": 9,
   "metadata": {
    "scrolled": false
   },
   "outputs": [
    {
     "name": "stdout",
     "output_type": "stream",
     "text": [
      "nsf: Int = 91\n",
      "phi: (i: Int)(t: Double)Double\n",
      "step: Double = 5.0E-4\n"
     ]
    }
   ],
   "source": [
    "val nsf  = bs.count()                     // number of spline basis functions (for i)\n",
    "def phi (i: Int)(t: Double) = bs(k)(i)(t) // the basis function\n",
    "val step = 5E-4                           // step size for plotting "
   ]
  },
  {
   "cell_type": "markdown",
   "metadata": {},
   "source": [
    "Let's take a look at the first five B-spline basis functions along the sub-interval defined by $[t_0, t_5]$:"
   ]
  },
  {
   "cell_type": "code",
   "execution_count": null,
   "metadata": {
    "scrolled": false
   },
   "outputs": [
    {
     "name": "stdout",
     "output_type": "stream",
     "text": [
      "bf: (i: Int)scalation.linalgebra.VectorD\n",
      "bfs: scalation.linalgebra.MatrixD =\n",
      "\n",
      "MatrixD(1.00000,\t0.00000,\t0.00000,\t0.00000,\t0.00000,\n",
      "\t0.994012,\t0.00598201,\t5.99267e-06,\t1.33333e-09,\t0.00000,\n",
      "\t0.988048,\t0.0119281,\t2.39413e-05,\t1.06667e-08,\t0.00000,\n",
      "\t0.982108,\t0.0178384,\t5.38020e-05,\t3.60000e-08,\t0.00000,\n",
      "\t0.976191,\t0.0237129,\t9.55307e-05,\t8.53333e-08,\t0.00000,\n",
      "\t0.970299,\t0.0295518,\t0.000149083,\t1.66667e-07,\t0.00000,\n",
      "\t0.964430,\t0.0353550,\t0.000214416,\t2.88000e-07,\t0.00000,\n",
      "\t0.958585,\t0.0411228,\t0.000291485,\t4.57333e-07,\t0.00000,\n",
      "\t0.952764,\t0.0468552,\t0.000380245,\t6.82667e-07,\t0.00000,\n",
      "\t0.946966,\t0.0525522,\t0.000480654,\t9.72000e-07,\t0.00000,\n",
      "\t0.941192,\t0.0582140,\t0.000592667,\t1.33333e-06,\t0.00000,\n",
      "\t0.935441,\t0.0638406,\t0.000716239,\t1.77467e-06,\t0.00000,\n",
      "\t0.929714,\t0.0694322,\t0.000851328,\t2.30400e-06,\t0.00000,\n",
      "\t0.924010,\t0.0749888,\t...\n"
     ]
    }
   ],
   "source": [
    "def bf(i: Int) = VectorD(Range.BigDecimal(t(0), t(5), step).map(_.toDouble).map(phi(i)).toSeq) // evaluate basis function i along the interval\n",
    "val bfs = MatrixD((0 until 5).map(bf).toSeq)                                                   // create matrix with a column for each function\n",
    "::plotm bfs"
   ]
  },
  {
   "cell_type": "markdown",
   "metadata": {},
   "source": [
    "As you can see, the first two basis functions (and the last two, although unseen) seem exhibit more acceleration than the rest. This is verified by looking at their second derivatives along the same subinterval:"
   ]
  },
  {
   "cell_type": "code",
   "execution_count": null,
   "metadata": {
    "scrolled": false
   },
   "outputs": [
    {
     "name": "stdout",
     "output_type": "stream",
     "text": [
      "d2phi: (i: Int)(t: Double)Double\n",
      "d2bf: (i: Int)scalation.linalgebra.VectorD\n",
      "d2bfs: scalation.linalgebra.MatrixD =\n",
      "\n",
      "MatrixD(0.00000,\t0.00000,\t0.00000,\t0.00000,\t0.00000,\n",
      "\t0.00000,\t-107.736,\t35.8480,\t0.0320000,\t0.00000,\n",
      "\t0.00000,\t-107.472,\t35.6960,\t0.0640000,\t0.00000,\n",
      "\t0.00000,\t-107.208,\t35.5440,\t0.0960000,\t0.00000,\n",
      "\t0.00000,\t-106.944,\t35.3920,\t0.128000,\t0.00000,\n",
      "\t0.00000,\t-106.680,\t35.2400,\t0.160000,\t0.00000,\n",
      "\t0.00000,\t-106.416,\t35.0880,\t0.192000,\t0.00000,\n",
      "\t0.00000,\t-106.152,\t34.9360,\t0.224000,\t0.00000,\n",
      "\t0.00000,\t-105.888,\t34.7840,\t0.256000,\t0.00000,\n",
      "\t0.00000,\t-105.624,\t34.6320,\t0.288000,\t0.00000,\n",
      "\t0.00000,\t-105.360,\t34.4800,\t0.320000,\t0.00000,\n",
      "\t0.00000,\t-105.096,\t34.3280,\t0.352000,\t0.00000,\n",
      "\t0.00000,\t-104.832,\t34.1760,\t0.384000,\t0.00000,\n",
      "\t0.00000,\t-104.568,\t34.0240,\t0.416000,\t0.00000,\n",
      "\t0.00000,\t-104.304,\t33.8720,\t0.448000,\t0.00000,\n",
      "\t0.00000,\t-104.040,\t33.7200,\t0...\n"
     ]
    }
   ],
   "source": [
    "def d2phi(i: Int)(t: Double) = bs.derivative(k, 2, t)(i)\n",
    "def d2bf(i: Int) = VectorD(Range.BigDecimal(t(0), t(5), step).map(_.toDouble).map(d2phi(i)).toSeq)\n",
    "val d2bfs = MatrixD((0 until 5).map(d2bf).toSeq)\n",
    "::plotm d2bfs"
   ]
  },
  {
   "cell_type": "markdown",
   "metadata": {},
   "source": [
    "Let's keep thos accerlation in mind for later. It's going to have an impact on the regression."
   ]
  },
  {
   "cell_type": "markdown",
   "metadata": {},
   "source": [
    "## Ordinary Least Squares Method \n",
    "To reformulate the regression spline model as a multiple linear regression model, we need to construct a design matrix using the basis functions. Each column in the matrix will represent one of the basis functions. Each row will represent each of the basis functions evaluated at a particular input point in the closed interval defined by the knot vector. Then, we have:\n",
    "\n",
    "$$ f(\\mathbf{t}) = X\\mathbf{c}, $$\n",
    "\n",
    "where $\\mathbf{t}$ is the vector of input points and $\\mathbf{c}$ is a coefficient vector to be estimated. Now suppose we have a set of samples for $f(t)$ over the input points:\n",
    "\n",
    "$$ \\mathbf{y} = f(\\mathbf{t}) + \\mathbf{e}, $$\n",
    "\n",
    "where $\\mathbf{y}$ is the response vector and $\\mathbf{e}$ is the error not explained by the model. This allows us to derive a formulation for $\\mathbf{e}$ in terms of $X$ and $\\mathbf{c}$:\n",
    "\n",
    "$$ \\mathbf{y} = f(\\mathbf{t}) + \\mathbf{e}, $$\n",
    "\n",
    "$$ \\mathbf{y} = f(\\mathbf{t}) + \\mathbf{e} = X\\mathbf{c} + \\mathbf{e}, $$\n",
    "\n",
    "$$ \\mathbf{y} = X\\mathbf{c} + \\mathbf{e}, $$\n",
    "\n",
    "$$ \\mathbf{e} = \\mathbf{y} - X\\mathbf{c}. $$\n",
    "\n",
    "Now that we have a formulation for the error, let's find an estimate for $\\mathbf{c}$ that minimizes the *sum of squared error*  (i.e., $\\mathbf{e}'\\mathbf{e}$). This can be solved using the ordinary least squares (OLS) method:\n",
    "\n",
    "$$ D^1_\\mathbf{c}[\\mathbf{e}'\\mathbf{e} ] = 0$$\n",
    "\n",
    "$$ D^1_\\mathbf{c}[(\\mathbf{y} - X\\mathbf{c})'(\\mathbf{y} - X\\mathbf{c}) ] = 0$$\n",
    "\n",
    "$$ -2X'\\mathbf{y} + 2X'X\\mathbf{c} = 0$$\n",
    "\n",
    "We can divide both sides by two:\n",
    "\n",
    "$$ -X'\\mathbf{y} + X'X\\mathbf{c} = 0$$\n",
    "\n",
    "$$ X'X\\mathbf{c} =  X'\\mathbf{y}$$\n",
    "\n",
    "$$ X'X \\mathbf{c} =  X'\\mathbf{y}$$\n",
    "\n",
    "$$ \\hat{\\mathbf{c}} = (X'X)^{-1}X'\\mathbf{y} $$\n",
    "\n",
    "Let's create the design matrix and solve for the coefficient vector using the OLS method:"
   ]
  },
  {
   "cell_type": "code",
   "execution_count": 12,
   "metadata": {
    "scrolled": false
   },
   "outputs": [
    {
     "name": "stdout",
     "output_type": "stream",
     "text": [
      "X: scalation.linalgebra.MatrixD =\n",
      "\n",
      "MatrixD(0.00000,\t0.00000,\t0.00000,\t0.00000,\t0.00000,\t0.00000,\t0.00000,\t0.00000,\t0.00000,\t0.00000,\t0.00000,\t0.00000,\t0.00000,\t0.00000,\t0.00000,\t0.00000,\t0.00000,\t0.00000,\t0.00000,\t0.00000,\t0.00000,\t0.00000,\t0.00000,\t0.00000,\t0.00000,\t0.00000,\t0.00000,\t0.00000,\t0.00000,\t0.00000,\t0.00000,\t0.00000,\t0.00000,\t0.00000,\t0.00000,\t0.00000,\t0.00000,\t0.00000,\t0.00000,\t0.00000,\t0.00000,\t0.00000,\t0.00000,\t0.00000,\t0.00000,\t0.00000,\t0.00000,\t0.00000,\t0.00000,\t0.00000,\t0.00000,\t0.00000,\t0.00000,\t0.00000,\t0.00000,\t0.00000,\t0.00000,\t0.00000,\t0.00000,\t0.00000,\t0.00000,\t0.00000,\t0.00000,\t0.00000,\t0.00000,\t0.00000,\t0.00000,\t0.00000,\t0.00000,\t0.00000,\t0.00000,\t0.00000,\t0.00000,\t0.00000,\t0.00000,\t0.00000,\t0.00000,\t0.00000,\t0.00000,\t0.00000,\t0.00000,\t0.00000,\t0.00000,\t0.00000...\n",
      "c: scalation.linalgebra.VectorD = VectorD(13067.3,\t-113232,\t-180835,\t66998.2,\t32698.7,\t15469.6,\t12541.3,\t13653.4,\t13424.1,\t13526.3,\t13541.9,\t13617.9,\t13668.7,\t13725.2,\t13766.5,\t13841.3,\t13860.2,\t13893.4,\t13924.2,\t13970.7,\t14006.3,\t14032.2,\t14063.5,\t14109.7,\t14158.1,\t14191.4,\t14229.5,\t14280.7,\t14336.5,\t14354.9,\t14399.8,\t14425.6,\t14482.5,\t14514.8,\t14552.5,\t14604.5,\t14644.5,\t14695.8,\t14744.8,\t14804.6,\t14881.2,\t14917.0,\t14990.6,\t15052.7,\t15123.1,\t15185.2,\t15241.2,\t15285.6,\t15349.7,\t15392.9,\t15439.7,\t15482.3,\t15532.0,\t15578.7,\t15629.7,\t15673.6,\t15739.6,\t15788.2,\t15837.3,\t15900.9,\t15962.6,\t16017.7,\t16076.3,\t16138.3,\t16204.4,\t16261.9,\t16327.7,\t16394.8,\t16486.5,\t16528.9,\t16627.1,\t16692.5,\t16785.0,\t16830.7,\t16890.7,\t16956.1,\t17025.9,\t17098.3,\t17093.3,\t17169.9,\t17242.8,\t17292.3,\t17317.8,\t17559.9,...\n"
     ]
    }
   ],
   "source": [
    "val X = new MatrixD (t.dim, bs.count())                   // create empty design matrix\n",
    "for (j <- X.range1; i <- X.range2) X(j, i) = phi(i)(t(j)) // evaluate each spline at each input point\n",
    "//val X = bs(k, t) // pending bug fix from Dr. Miller\n",
    "val c = (X.t * X).inverse * X.t * y                       // solve for x using OLS"
   ]
  },
  {
   "cell_type": "markdown",
   "metadata": {},
   "source": [
    "Before we define $f(t)$ using the regression spline, let's look at the fit of the multiple linear regression model:"
   ]
  },
  {
   "cell_type": "code",
   "execution_count": null,
   "metadata": {
    "scrolled": false
   },
   "outputs": [
    {
     "name": "stdout",
     "output_type": "stream",
     "text": [
      "z: scalation.linalgebra.VectorD = VectorD(13067.3,\t-122629,\t19976.1,\t35543.7,\t17853.0,\t13214.7,\t13429.9,\t13479.3,\t13511.9,\t13552.0,\t13613.7,\t13669.6,\t13722.7,\t13772.1,\t13832.0,\t13862.6,\t13893.0,\t13926.8,\t13968.9,\t14004.7,\t14033.1,\t14066.0,\t14110.1,\t14155.6,\t14192.2,\t14231.7,\t14281.5,\t14330.3,\t14359.3,\t14396.6,\t14430.8,\t14478.4,\t14515.7,\t14554.9,\t14602.5,\t14646.4,\t14695.4,\t14746.6,\t14807.4,\t14874.4,\t14923.3,\t14988.7,\t15054.1,\t15121.7,\t15184.2,\t15239.3,\t15288.9,\t15346.2,\t15393.5,\t15439.0,\t15483.5,\t15531.5,\t15579.4,\t15628.5,\t15677.3,\t15736.7,\t15788.3,\t15839.7,\t15900.6,\t15961.5,\t16018.3,\t16076.9,\t16139.0,\t16203.0,\t16263.3,\t16327.9,\t16398.9,\t16478.3,\t16538.2,\t16621.6,\t16697.0,\t16777.2,\t16833.1,\t16891.6,\t16956.8,\t17026.3,\t17085.4,\t17106.9,\t17169.3,\t17238.9,\t17288.3,\t17353.9,\t17526.6,\t17674.1,...\n",
      "e: scalation.linalgebra.VectorD = VectorD(0.00000,\t135759,\t-6777.73,\t-22289.5,\t-4549.34,\t139.190,\t-20.5579,\t-20.1367,\t-7.37119,\t0.624318,\t0.578037,\t-0.134696,\t-0.0739386,\t0.00411652,\t-0.00964771,\t-0.00361536,\t9.09631e-05,\t-7.16247e-05,\t2.60496e-05,\t-1.45806e-05,\t-1.52579e-06,\t-2.33119e-06,\t4.09727e-08,\t-2.99769e-08,\t1.25438e-08,\t-8.38918e-09,\t1.54432e-09,\t-2.47383e-10,\t9.82254e-11,\t-6.00267e-11,\t-1.81899e-11,\t-2.54659e-11,\t-2.18279e-11,\t-1.81899e-11,\t-2.00089e-11,\t-2.36469e-11,\t-2.18279e-11,\t-2.54659e-11,\t-2.72848e-11,\t-2.54659e-11,\t-2.72848e-11,\t-2.18279e-11,\t-2.18279e-11,\t-2.54659e-11,\t-2.36469e-11,\t-2.36469e-11,\t-2.54659e-11,\t-2.54659e-11,\t-2.54659e-11,\t-2.91038e-11,\t-2.54659e-11,\t-2.54659e-11,\t-2.18279e-11,\t-2.54659e-11,\t-2.54659e-11,\t-2.54659e-11,\t-2.72848e-11,\t-2.36469e-11,\t-2.000...\n",
      "sse: Double = 2.018295123257192E10\n"
     ]
    }
   ],
   "source": [
    "val z   = X * c   // predicted response\n",
    "val e   = y - z   // residual\n",
    "val sse = e dot e // sum of squared error\n",
    "::plotv y z\n",
    "println(s\"SSE = $sse\")"
   ]
  },
  {
   "cell_type": "markdown",
   "metadata": {},
   "source": [
    "Oh no! What happened? The sum of squared error (SSE) is huge. It looks like most of the fit is good, including the end points (as discussed above, due to clamping the knot vector), however, the fit along the subintervals approaching each end point appear to be extremely poor. This is due to the acceleration of the first two and last two basis functions that we observed. The solution? Let's fit the model in such a way as to penalize lots of acceleration. To do this, we use a technique called *smoothing*!"
   ]
  },
  {
   "cell_type": "markdown",
   "metadata": {},
   "source": [
    "## Smoothing Splines\n",
    "\n",
    "Roughly speaking, a smoothing spline is a regularized regression spline with a penalty based on the second derivative of the basis functions. If the current sequence of basis functions is used to approximate the position of the function at each input, then the second derivative should indicate how fast the curve is accellerating.\n",
    "\n",
    "Instead of simply minimizing $\\mathbf{e}'\\mathbf{e}$ like we did before, we'll minimize $\\mathbf{e}'\\mathbf{e} + \\lambda \\lvert\\lvert \\mathbf{c} \\cdot D^2\\phi  \\rvert\\rvert^2_2$. If we recall that the predicted response is estimated by $X \\mathbf{c}$, then it's clear that this criterion explodes whenever the basis functions exhibit a large amount of acceleration. \n",
    "\n",
    "While criterion certainly looks nice in terms of expression, it easier to work with $D^2\\phi$ in matrix form. To do this, construct a matrix such that each column represents the second derivative of a basis function and each row represents the evaluation of the second derivatives at a particular input point. Once we have that matrix, we can square it to get the norm. Let $P$ represent this norm."
   ]
  },
  {
   "cell_type": "code",
   "execution_count": 14,
   "metadata": {
    "scrolled": false
   },
   "outputs": [
    {
     "name": "stdout",
     "output_type": "stream",
     "text": [
      "d2bs: scalation.linalgebra.MatrixD =\n",
      "\n",
      "MatrixD(0.00000,\t0.00000,\t0.00000,\t0.00000,\t0.00000,\t0.00000,\t0.00000,\t0.00000,\t0.00000,\t0.00000,\t0.00000,\t0.00000,\t0.00000,\t0.00000,\t0.00000,\t0.00000,\t0.00000,\t0.00000,\t0.00000,\t0.00000,\t0.00000,\t0.00000,\t0.00000,\t0.00000,\t0.00000,\t0.00000,\t0.00000,\t0.00000,\t0.00000,\t0.00000,\t0.00000,\t0.00000,\t0.00000,\t0.00000,\t0.00000,\t0.00000,\t0.00000,\t0.00000,\t0.00000,\t0.00000,\t0.00000,\t0.00000,\t0.00000,\t0.00000,\t0.00000,\t0.00000,\t0.00000,\t0.00000,\t0.00000,\t0.00000,\t0.00000,\t0.00000,\t0.00000,\t0.00000,\t0.00000,\t0.00000,\t0.00000,\t0.00000,\t0.00000,\t0.00000,\t0.00000,\t0.00000,\t0.00000,\t0.00000,\t0.00000,\t0.00000,\t0.00000,\t0.00000,\t0.00000,\t0.00000,\t0.00000,\t0.00000,\t0.00000,\t0.00000,\t0.00000,\t0.00000,\t0.00000,\t0.00000,\t0.00000,\t0.00000,\t0.00000,\t0.00000,\t0.00000,\t0.00...\n",
      "P: scalation.linalgebra.MatrixD =\n",
      "\n",
      "MatrixD(0.00000,\t0.00000,\t0.00000,\t0.00000,\t0.00000,\t0.00000,\t0.00000,\t0.00000,\t0.00000,\t0.00000,\t0.00000,\t0.00000,\t0.00000,\t0.00000,\t0.00000,\t0.00000,\t0.00000,\t0.00000,\t0.00000,\t0.00000,\t0.00000,\t0.00000,\t0.00000,\t0.00000,\t0.00000,\t0.00000,\t0.00000,\t0.00000,\t0.00000,\t0.00000,\t0.00000,\t0.00000,\t0.00000,\t0.00000,\t0.00000,\t0.00000,\t0.00000,\t0.00000,\t0.00000,\t0.00000,\t0.00000,\t0.00000,\t0.00000,\t0.00000,\t0.00000,\t0.00000,\t0.00000,\t0.00000,\t0.00000,\t0.00000,\t0.00000,\t0.00000,\t0.00000,\t0.00000,\t0.00000,\t0.00000,\t0.00000,\t0.00000,\t0.00000,\t0.00000,\t0.00000,\t0.00000,\t0.00000,\t0.00000,\t0.00000,\t0.00000,\t0.00000,\t0.00000,\t0.00000,\t0.00000,\t0.00000,\t0.00000,\t0.00000,\t0.00000,\t0.00000,\t0.00000,\t0.00000,\t0.00000,\t0.00000,\t0.00000,\t0.00000,\t0.00000,\t0.00000,\t0.00000...\n"
     ]
    }
   ],
   "source": [
    "val d2bs = new MatrixD(X.dim1, X.dim2)\n",
    "for (j <- d2bs.range1) d2bs(j) = bs.derivative(k, 2, t(j))\n",
    "val P    = d2bs.t * d2bs"
   ]
  },
  {
   "cell_type": "markdown",
   "metadata": {},
   "source": [
    "Now we are ready to find an estimate for $\\mathbf{c}$ that minimizes the *penalized sum of squared error* criterion (i.e., $\\mathbf{e}'\\mathbf{e} + \\lambda \\lvert\\lvert \\mathbf{c} \\cdot D^2\\phi  \\rvert\\rvert^2_2 = \\mathbf{e}'\\mathbf{e} + \\lambda \\mathbf{c}' P \\mathbf{c}$. This can be done by taking the derivative of the criterion, setting it equal to zero, and solving for $\\mathbf{c}$:\n",
    "\n",
    "$$ D^1_\\mathbf{c}[\\mathbf{e}'\\mathbf{e} + \\lambda \\mathbf{c}' P \\mathbf{c} ] = 0$$\n",
    "\n",
    "$$ D^1_\\mathbf{c}[(\\mathbf{y} - X\\mathbf{c})'(\\mathbf{y} - X\\mathbf{c}) + \\lambda \\mathbf{c}' P \\mathbf{c} ] = 0$$\n",
    "\n",
    "$$ -2X'\\mathbf{y} + 2X'X\\mathbf{c} + 2 \\lambda P \\mathbf{c} = 0$$\n",
    "\n",
    "We can divide both sides by two:\n",
    "\n",
    "$$ -X'\\mathbf{y} + X'X\\mathbf{c} + \\lambda P \\mathbf{c}= 0$$\n",
    "\n",
    "$$ X'X\\mathbf{c} + \\lambda P \\mathbf{c} =  X'\\mathbf{y}$$\n",
    "\n",
    "$$ (X'X + \\lambda P) \\mathbf{c} =  X'\\mathbf{y}$$\n",
    "\n",
    "$$ \\hat{\\mathbf{c}} = (X'X + \\lambda P)^{-1}X'\\mathbf{y} $$\n",
    "\n",
    "Let us now estimate $\\mathbf{c}$ using the estimator we just derived, letting $\\lambda=1$ to start, and predict the response in order to calculate the SSE:"
   ]
  },
  {
   "cell_type": "code",
   "execution_count": null,
   "metadata": {
    "scrolled": false
   },
   "outputs": [
    {
     "name": "stdout",
     "output_type": "stream",
     "text": [
      "lambda: Double = 1.0\n",
      "cPen: scalation.linalgebra.VectorD = VectorD(13067.3,\t13113.2,\t13148.3,\t13201.0,\t13253.7,\t13306.2,\t13358.4,\t13410.3,\t13461.9,\t13512.8,\t13563.2,\t13612.7,\t13661.3,\t13708.6,\t13754.7,\t13799.4,\t13842.6,\t13884.5,\t13925.2,\t13965.0,\t14004.1,\t14042.6,\t14080.9,\t14119.1,\t14157.5,\t14196.0,\t14234.8,\t14274.0,\t14313.7,\t14353.9,\t14394.9,\t14436.8,\t14479.8,\t14524.1,\t14569.8,\t14617.1,\t14666.1,\t14716.7,\t14768.9,\t14822.5,\t14877.3,\t14933.0,\t14989.3,\t15045.8,\t15102.3,\t15158.3,\t15213.8,\t15268.4,\t15322.2,\t15375.3,\t15427.7,\t15479.7,\t15531.5,\t15583.3,\t15635.5,\t15688.2,\t15741.8,\t15796.3,\t15852.0,\t15908.9,\t15967.2,\t16026.9,\t16088.0,\t16150.5,\t16214.4,\t16279.5,\t16345.7,\t16412.8,\t16480.4,\t16548.4,\t16616.3,\t16683.7,\t16750.3,\t16815.8,\t16879.9,\t16942.6,\t17003.8,\t17063.3,\t17121.4,\t17178.0,\t17233.3,\t17287.3,\t17340.2,\t17392...\n",
      "zPen: scalation.linalgebra.VectorD = VectorD(13067.3,\t13148.3,\t13201.0,\t13253.6,\t13306.1,\t13358.4,\t13410.3,\t13461.8,\t13512.7,\t13563.0,\t13612.6,\t13661.1,\t13708.4,\t13754.5,\t13799.1,\t13842.4,\t13884.3,\t13925.1,\t13964.9,\t14004.0,\t14042.6,\t14080.9,\t14119.2,\t14157.5,\t14196.0,\t14234.9,\t14274.1,\t14313.8,\t14354.0,\t14395.1,\t14437.0,\t14480.0,\t14524.3,\t14570.1,\t14617.4,\t14666.4,\t14716.9,\t14769.1,\t14822.7,\t14877.4,\t14933.1,\t14989.3,\t15045.8,\t15102.2,\t15158.2,\t15213.6,\t15268.3,\t15322.1,\t15375.2,\t15427.6,\t15479.6,\t15531.5,\t15583.3,\t15635.6,\t15688.3,\t15741.9,\t15796.5,\t15852.2,\t15909.2,\t15967.5,\t16027.2,\t16088.3,\t16150.8,\t16214.6,\t16279.7,\t16345.8,\t16412.9,\t16480.5,\t16548.4,\t16616.2,\t16683.5,\t16750.1,\t16815.5,\t16879.7,\t16942.4,\t17003.5,\t17063.1,\t17121.1,\t17177.8,\t17233.1,\t17287.1,\t17340.0,\t17391.9,\t17442...\n",
      "ePen: scalation.linalgebra.VectorD = VectorD(0.00000,\t-17.8330,\t-2.62619,\t0.554986,\t-2.41432,\t-4.45325,\t-0.972467,\t-2.57078,\t-8.23784,\t-10.4487,\t1.74902,\t8.43292,\t14.1784,\t17.6298,\t32.8773,\t20.2328,\t8.70857,\t1.73912,\t4.01894,\t0.725803,\t-9.47245,\t-14.9032,\t-9.06258,\t-1.90124,\t-3.83619,\t-3.16756,\t7.41660,\t16.5297,\t5.25900,\t1.54854,\t-6.18369,\t-1.62352,\t-8.64431,\t-15.2019,\t-14.9182,\t-19.9629,\t-21.5426,\t-22.4891,\t-15.2522,\t-3.00313,\t-9.75793,\t-0.602540,\t8.30005,\t19.4875,\t25.9632,\t25.6597,\t20.6170,\t24.0794,\t18.3032,\t11.3598,\t3.85134,\t0.0360376,\t-3.94690,\t-7.05871,\t-11.0461,\t-5.22824,\t-8.19097,\t-12.4910,\t-8.55145,\t-5.95545,\t-8.85146,\t-11.3586,\t-11.7617,\t-11.6032,\t-16.3802,\t-17.9394,\t-13.9673,\t-2.18710,\t-10.1748,\t5.42052,\t13.4667,\t27.1154,\t17.5631,\t11.9245,\t14.4429,\t22.8052,\t22.3357,\t-14.2177,\t...\n",
      "ssePen: Double = 15810.284509920795\n"
     ]
    }
   ],
   "source": [
    "val lambda = 1.0\n",
    "val cPen   = ((X.t * X) + (P * lambda)).inverse * X.t * y // use roughness penalty\n",
    "val zPen   = X * cPen      // predicted response\n",
    "val ePen   = y - zPen      // residual\n",
    "val ssePen = ePen dot ePen // sum of squared error\n",
    "::plotv y zPen\n",
    "println(s\"SSE = $ssePen\")"
   ]
  },
  {
   "cell_type": "markdown",
   "metadata": {},
   "source": [
    "Well, the fit not only looks better, it is better as evidenced by the smaller SSE. Can we make it even better? Consider the assumption we made of $\\lambda=1$. Is there a different value that improves the SSE? Let's create a function that computes the SSE for a particular $\\lambda$ value:"
   ]
  },
  {
   "cell_type": "code",
   "execution_count": 16,
   "metadata": {
    "scrolled": false
   },
   "outputs": [
    {
     "name": "stdout",
     "output_type": "stream",
     "text": [
      "tryLambda: (lambda: Double)Double\n"
     ]
    }
   ],
   "source": [
    "def tryLambda(lambda: Double): Double = {\n",
    "    val c   = ((X.t * X) + (P * lambda)).inverse * X.t * y // use roughness penalty\n",
    "    val z   = X * c   // predicted response\n",
    "    val e   = y - z   // residual\n",
    "    e dot e           // return the sum of squared error\n",
    "} // tryLambda"
   ]
  },
  {
   "cell_type": "markdown",
   "metadata": {},
   "source": [
    "Now that we have a function that can be used for any $\\lambda$, let's try repeatedly decreasing its value so long as it improves the SSE for the fit. While there are many different optimization techniques that could be used to find the optimal lambda my minimizing the objective function defined by `tryLambda`, we'll use a naive technique of repeated division for illustrative purposes:"
   ]
  },
  {
   "cell_type": "code",
   "execution_count": 17,
   "metadata": {
    "scrolled": false
   },
   "outputs": [
    {
     "name": "stdout",
     "output_type": "stream",
     "text": [
      "lambda: Double = 1.0\n",
      "sse: Double = Infinity\n",
      "ssePrev: Double = Infinity\n",
      "\n",
      "lambda = 0.1; sse = 4529.381700638758\n",
      "lambda = 0.01; sse = 2069.1094806884958\n",
      "lambda = 0.001; sse = 917.5327455827379\n",
      "lambda = 1.0E-4; sse = 217.49209757188095\n",
      "lambda = 1.0E-5; sse = 14.153205610632988\n",
      "lambda = 1.0000000000000002E-6; sse = 0.21739436372478965\n",
      "lambda = 1.0000000000000002E-7; sse = 0.0022862403434570993\n",
      "lambda = 1.0000000000000002E-8; sse = 2.2979956262516784E-5\n",
      "lambda = 1.0000000000000003E-9; sse = 2.2991389344649151E-7\n",
      "lambda = 1.0000000000000003E-10; sse = 2.2995986655720284E-9\n",
      "lambda = 1.0000000000000003E-11; sse = 1.5583188050194268E-10\n",
      "lambda = 1.0000000000000002E-12; sse = 8.343089209034168E-9\n",
      "\n",
      "lambda: Double = 1.0000000000000001E-11\n"
     ]
    }
   ],
   "source": [
    "var lambda  = 1.0\n",
    "var sse     = Double.PositiveInfinity\n",
    "var ssePrev = Double.PositiveInfinity\n",
    "\n",
    "do {\n",
    "  lambda  = lambda / 10       // make lambda smaller\n",
    "  ssePrev = sse               // save previous SSE\n",
    "  sse     = tryLambda(lambda) // compute new SSE\n",
    "  println(s\"lambda = $lambda; sse = $sse\")\n",
    "} while (sse < ssePrev)       // loop while SSE improves\n",
    "\n",
    "lambda = lambda * 10          // save the best SSE"
   ]
  },
  {
   "cell_type": "markdown",
   "metadata": {},
   "source": [
    "Let's observe the fit using this new, optimal $\\lambda$ value: "
   ]
  },
  {
   "cell_type": "code",
   "execution_count": null,
   "metadata": {
    "scrolled": false
   },
   "outputs": [
    {
     "name": "stdout",
     "output_type": "stream",
     "text": [
      "cPen2: scalation.linalgebra.VectorD = VectorD(13067.3,\t13082.0,\t13131.2,\t13201.0,\t13255.1,\t13303.7,\t13352.2,\t13410.9,\t13459.9,\t13504.7,\t13548.4,\t13617.2,\t13668.7,\t13725.1,\t13766.6,\t13841.3,\t13860.2,\t13893.4,\t13924.2,\t13970.7,\t14006.3,\t14032.2,\t14063.5,\t14109.7,\t14158.1,\t14191.4,\t14229.5,\t14280.7,\t14336.5,\t14354.9,\t14399.8,\t14425.6,\t14482.5,\t14514.8,\t14552.5,\t14604.5,\t14644.5,\t14695.8,\t14744.8,\t14804.6,\t14881.2,\t14917.0,\t14990.6,\t15052.7,\t15123.1,\t15185.2,\t15241.2,\t15285.6,\t15349.7,\t15392.9,\t15439.7,\t15482.3,\t15532.0,\t15578.7,\t15629.7,\t15673.6,\t15739.6,\t15788.2,\t15837.3,\t15900.9,\t15962.6,\t16017.7,\t16076.3,\t16138.3,\t16204.4,\t16261.9,\t16327.7,\t16394.8,\t16486.5,\t16528.9,\t16627.1,\t16692.5,\t16785.0,\t16830.7,\t16890.7,\t16956.1,\t17025.9,\t17098.3,\t17093.4,\t17169.6,\t17244.6,\t17288.4,\t17353.8,\t1742...\n",
      "zPen2: scalation.linalgebra.VectorD = VectorD(13067.3,\t13130.5,\t13198.4,\t13254.2,\t13303.7,\t13353.9,\t13409.3,\t13459.2,\t13504.5,\t13552.6,\t13614.3,\t13669.5,\t13722.6,\t13772.1,\t13832.0,\t13862.6,\t13893.0,\t13926.8,\t13968.9,\t14004.7,\t14033.1,\t14066.0,\t14110.1,\t14155.6,\t14192.2,\t14231.7,\t14281.5,\t14330.3,\t14359.3,\t14396.6,\t14430.8,\t14478.4,\t14515.7,\t14554.9,\t14602.5,\t14646.4,\t14695.4,\t14746.6,\t14807.4,\t14874.4,\t14923.3,\t14988.7,\t15054.1,\t15121.7,\t15184.2,\t15239.3,\t15288.9,\t15346.2,\t15393.5,\t15439.0,\t15483.5,\t15531.5,\t15579.4,\t15628.5,\t15677.3,\t15736.7,\t15788.3,\t15839.7,\t15900.6,\t15961.5,\t16018.3,\t16076.9,\t16139.0,\t16203.0,\t16263.3,\t16327.9,\t16398.9,\t16478.3,\t16538.2,\t16621.6,\t16697.0,\t16777.2,\t16833.1,\t16891.6,\t16956.8,\t17026.3,\t17085.4,\t17106.9,\t17169.4,\t17239.4,\t17292.0,\t17354.2,\t17414.2,\t1744...\n",
      "ePen2: scalation.linalgebra.VectorD = VectorD(0.00000,\t-1.12711e-05,\t-9.09813e-07,\t1.23913e-06,\t3.55523e-07,\t-1.69843e-07,\t1.64220e-07,\t-1.15289e-07,\t2.19989e-07,\t-4.31986e-07,\t4.61303e-07,\t-4.26680e-07,\t6.00934e-07,\t-9.31563e-07,\t1.01508e-06,\t-6.82836e-07,\t3.83323e-07,\t-3.14512e-07,\t1.83925e-07,\t9.03856e-09,\t-6.08816e-09,\t-7.27487e-08,\t-4.37540e-08,\t1.78581e-07,\t-9.90749e-08,\t3.76513e-08,\t-3.08277e-07,\t6.79112e-07,\t-7.77178e-07,\t7.44390e-07,\t-7.30690e-07,\t5.56223e-07,\t-1.80044e-07,\t-1.61932e-07,\t2.91877e-07,\t-2.50251e-07,\t1.49896e-07,\t5.40622e-08,\t-4.71169e-07,\t8.52058e-07,\t-8.43880e-07,\t5.57586e-07,\t-3.25428e-07,\t1.89335e-07,\t-1.49243e-07,\t2.92621e-07,\t-4.56646e-07,\t4.32112e-07,\t-2.76686e-07,\t1.82990e-07,\t-1.65757e-07,\t1.54614e-07,\t-1.86999e-07,\t3.07668e-07,\t-4.24439e-07,\t3.41779e-07,...\n",
      "ssePen2: Double = 1.5583188050194268E-10\n"
     ]
    }
   ],
   "source": [
    "val cPen2   = ((X.t * X) + (P * lambda)).inverse * X.t * y // use roughness penalty\n",
    "val zPen2   = X * cPen2       // predicted response\n",
    "val ePen2   = y - zPen2       // residual\n",
    "val ssePen2 = ePen2 dot ePen2 // sum of squared error\n",
    "::plotv y zPen2\n",
    "println(s\"lambda = $lambda; sse = $ssePen2\")"
   ]
  },
  {
   "cell_type": "markdown",
   "metadata": {},
   "source": [
    "That's way better! The SSE is really good. We can now, finally and confidently, define $f(t)$ using the coefficient vector that we estimated for the smoothing spline:"
   ]
  },
  {
   "cell_type": "code",
   "execution_count": 19,
   "metadata": {
    "scrolled": false
   },
   "outputs": [
    {
     "name": "stdout",
     "output_type": "stream",
     "text": [
      "f: (t: Double)Double\n"
     ]
    }
   ],
   "source": [
    "def f(t: Double) = (0 until bs.count()).map(i => c(i) * phi(i)(t)).sum "
   ]
  },
  {
   "cell_type": "markdown",
   "metadata": {},
   "source": [
    "Now you should be able to use $f(t)$ to compute values anywhere along closed interval defined by the ends of the original knot vector."
   ]
  },
  {
   "cell_type": "markdown",
   "metadata": {},
   "source": [
    "## References\n",
    "* Patrikalakis & Maekawa (2009). *Shape Interrogation for Computer Aided Design and Manufacturing.* Springer Science & Business Media.\n",
    "* Brockwell & Davis (1996). *Introduction to Time Series and Forecasting.* Springer."
   ]
  }
 ],
 "metadata": {
  "kernelspec": {
   "display_name": "ScalaTion",
   "language": "scala",
   "name": "scalation"
  },
  "language_info": {
   "file_extension": ".scala",
   "mimetype": "text/x-scala-source",
   "name": "scala"
  }
 },
 "nbformat": 4,
 "nbformat_minor": 2
}
